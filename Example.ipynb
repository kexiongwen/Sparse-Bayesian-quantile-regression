{
 "cells": [
  {
   "cell_type": "code",
   "execution_count": 4,
   "metadata": {},
   "outputs": [],
   "source": [
    "import numpy as np\n",
    "from BQR import BQR\n",
    "from scipy.linalg import toeplitz"
   ]
  },
  {
   "cell_type": "code",
   "execution_count": 5,
   "metadata": {},
   "outputs": [],
   "source": [
    "N=100\n",
    "P=1000\n",
    "Corr=0.5**toeplitz(np.arange(0,P),np.arange(0,P))\n",
    "beta=np.zeros((P,1))\n",
    "beta[0]=2\n",
    "beta[1]=2\n",
    "beta[2]=2\n",
    "beta[3]=2\n",
    "beta[4]=2\n",
    "sigma=1\n",
    "X=np.random.multivariate_normal(np.zeros(P), Corr, N)\n",
    "Y=X@beta+sigma*np.random.randn(N,1)"
   ]
  },
  {
   "cell_type": "code",
   "execution_count": 6,
   "metadata": {},
   "outputs": [
    {
     "ename": "ValueError",
     "evalue": "operands could not be broadcast together with shapes (1000,100) (100,1) ",
     "output_type": "error",
     "traceback": [
      "\u001b[0;31m---------------------------------------------------------------------------\u001b[0m",
      "\u001b[0;31mValueError\u001b[0m                                Traceback (most recent call last)",
      "\u001b[1;32m/Users/kxw/Documents/Sparse-Bayesian-quantile-regression/Example.ipynb Cell 3\u001b[0m in \u001b[0;36m<cell line: 1>\u001b[0;34m()\u001b[0m\n\u001b[0;32m----> <a href='vscode-notebook-cell:/Users/kxw/Documents/Sparse-Bayesian-quantile-regression/Example.ipynb#W2sZmlsZQ%3D%3D?line=0'>1</a>\u001b[0m beta_sample\u001b[39m=\u001b[39mBQR(Y,X)\n",
      "File \u001b[0;32m~/Documents/Sparse-Bayesian-quantile-regression/BQR.py:41\u001b[0m, in \u001b[0;36mBQR\u001b[0;34m(Y, X, Q, M, burn_in)\u001b[0m\n\u001b[1;32m     38\u001b[0m D\u001b[39m=\u001b[39mc1\u001b[39m*\u001b[39mnp\u001b[39m.\u001b[39msqrt(omega_sample)\n\u001b[1;32m     40\u001b[0m \u001b[39m#Preconditioning feature matrix\u001b[39;00m\n\u001b[0;32m---> 41\u001b[0m XTD\u001b[39m=\u001b[39mX\u001b[39m.\u001b[39;49mT\u001b[39m*\u001b[39;49mD         \n\u001b[1;32m     42\u001b[0m GXTD\u001b[39m=\u001b[39mG\u001b[39m.\u001b[39mreshape(\u001b[39m-\u001b[39m\u001b[39m1\u001b[39m,\u001b[39m1\u001b[39m)\u001b[39m*\u001b[39mXTD           \n\u001b[1;32m     43\u001b[0m DY\u001b[39m=\u001b[39mD\u001b[39m*\u001b[39m(Y\u001b[39m-\u001b[39mc2\u001b[39m/\u001b[39momega_sample)\n",
      "\u001b[0;31mValueError\u001b[0m: operands could not be broadcast together with shapes (1000,100) (100,1) "
     ]
    }
   ],
   "source": [
    "beta_sample=BQR(Y,X)"
   ]
  },
  {
   "cell_type": "code",
   "execution_count": null,
   "metadata": {},
   "outputs": [],
   "source": [
    "beta_mean=np.mean(beta_sample,axis=1)"
   ]
  },
  {
   "cell_type": "code",
   "execution_count": null,
   "metadata": {},
   "outputs": [],
   "source": [
    "beta_mean"
   ]
  },
  {
   "cell_type": "code",
   "execution_count": null,
   "metadata": {},
   "outputs": [],
   "source": []
  }
 ],
 "metadata": {
  "kernelspec": {
   "display_name": "base",
   "language": "python",
   "name": "python3"
  },
  "language_info": {
   "codemirror_mode": {
    "name": "ipython",
    "version": 3
   },
   "file_extension": ".py",
   "mimetype": "text/x-python",
   "name": "python",
   "nbconvert_exporter": "python",
   "pygments_lexer": "ipython3",
   "version": "3.9.13"
  },
  "orig_nbformat": 4
 },
 "nbformat": 4,
 "nbformat_minor": 2
}
